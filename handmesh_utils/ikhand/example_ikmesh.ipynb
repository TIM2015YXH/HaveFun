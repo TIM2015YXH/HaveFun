{
 "cells": [
  {
   "cell_type": "code",
   "execution_count": null,
   "metadata": {},
   "outputs": [],
   "source": [
    "import config as cfg\n",
    "import network\n",
    "import vctoolkit as vc\n",
    "import skeletons as sk\n",
    "import math_np\n",
    "import torch\n",
    "import numpy as np"
   ]
  },
  {
   "cell_type": "code",
   "execution_count": null,
   "metadata": {},
   "outputs": [],
   "source": [
    "# you need to set model path here\n",
    "model_path = '../../../ckpt/iknet_778_v1/14000.pth'\n",
    "model = network.IKNetV1(cfg.MANO_VERTS * 3, sk.MANOHand.n_joints * 6, shape_dim=10, depth=4, width=2048).to(cfg.DEVICE)\n",
    "model.load_state_dict(torch.load(model_path, map_location=torch.device(cfg.DEVICE))['model'])\n",
    "model.eval()"
   ]
  },
  {
   "cell_type": "code",
   "execution_count": null,
   "metadata": {},
   "outputs": [],
   "source": [
    "# here we load an obj file as example\n",
    "# you can use your own vertices of shape (778, 3)\n",
    "# make sure the unit is decimeter, and the mesh should be put in the origin\n",
    "obj_path = 'output/mano_dataloader/mesh_0.obj'\n",
    "v, _ = vc.load(obj_path)\n",
    "v.shape"
   ]
  },
  {
   "cell_type": "code",
   "execution_count": null,
   "metadata": {},
   "outputs": [],
   "source": [
    "# run the model\n",
    "with torch.no_grad():\n",
    "  prediction = model(torch.from_numpy(np.reshape(v.astype(np.float32), [1, -1])).to(cfg.DEVICE))\n",
    "prediction = {k: v[0].detach().cpu().numpy() for k, v in prediction.items()}"
   ]
  },
  {
   "cell_type": "code",
   "execution_count": null,
   "metadata": {},
   "outputs": [],
   "source": [
    "# the pose difinition of IKNet is a bit different from the original mano\n",
    "# and we convert it back to the original format\n",
    "def recover_original_mano_pose(pose):\n",
    "  pose = math_np.convert(np.reshape(pose, [-1, 6]), 'rot6d', 'axangle')\n",
    "  mano_pose = np.zeros([16, 3])\n",
    "  mano_pose[0] = pose[4] # use M0 to represent palm\n",
    "  for finger in 'TIMRL':\n",
    "    for knuckle in [0, 1, 2]:\n",
    "      mano_pose[sk.MANOHand.labels.index(finger + str(knuckle))] = \\\n",
    "        pose[sk.MANOHand.labels.index(finger + str(knuckle + 1))]\n",
    "  return mano_pose"
   ]
  },
  {
   "cell_type": "code",
   "execution_count": null,
   "metadata": {},
   "outputs": [],
   "source": [
    "prediction['pose'] = recover_original_mano_pose(prediction['pose'])"
   ]
  },
  {
   "cell_type": "code",
   "execution_count": null,
   "metadata": {},
   "outputs": [],
   "source": [
    "vc.examine_dict(prediction)"
   ]
  },
  {
   "cell_type": "code",
   "execution_count": null,
   "metadata": {},
   "outputs": [],
   "source": []
  }
 ],
 "metadata": {
  "kernelspec": {
   "display_name": "Python 3",
   "language": "python",
   "name": "python3"
  },
  "language_info": {
   "codemirror_mode": {
    "name": "ipython",
    "version": 3
   },
   "file_extension": ".py",
   "mimetype": "text/x-python",
   "name": "python",
   "nbconvert_exporter": "python",
   "pygments_lexer": "ipython3",
   "version": "3.7.6"
  }
 },
 "nbformat": 4,
 "nbformat_minor": 4
}
